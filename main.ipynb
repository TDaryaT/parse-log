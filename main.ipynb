{
 "cells": [
  {
   "cell_type": "markdown",
   "metadata": {},
   "source": [
    "Дано: лог nginx,в архиве gz.\n",
    "\n",
    "Надо: разобраться с форматом лога и преобразовать в формат csv. Т.е. чтобы параметры в строках были разделены точкой с запятой.\n",
    "\n",
    "Зачем: это дает возможность анализировать лог в программах, которые могут читать csv (excel, библиотека pandas)\n",
    "\n",
    "Подсказки: в python можно использовать\n",
    "библиотеку gzip для чтения архива,\n",
    "библиотеку re для обработки строк с помощью регулярных выражений"
   ]
  },
  {
   "cell_type": "code",
   "execution_count": 54,
   "metadata": {},
   "outputs": [],
   "source": [
    "import gzip, re\n",
    "import gzip\n",
    "\n",
    "from ipywidgets import IntProgress\n",
    "from IPython.display import display\n",
    "\n",
    "import pandas as pd"
   ]
  },
  {
   "cell_type": "markdown",
   "metadata": {},
   "source": [
    "Выводим первые 10 строк оригинального текста логов"
   ]
  },
  {
   "cell_type": "code",
   "execution_count": 55,
   "metadata": {},
   "outputs": [
    {
     "name": "stdout",
     "output_type": "stream",
     "text": [
      "Aug  4 00:00:06 p00esianlbext01 esia.gosuslugi.ru_https_access: 03/Aug/2014:23:59:57 +0400 82.196.148.114 - GET /idp/resources/img/theme/sprite_arrow.png HTTP/1.1 \"200\" 0.001 1407095997.008 1434 \"https://esia.gosuslugi.ru/idp/resources/css/theme.css\" \"Firefox/3.6.13, TestNVG\" - upstream_responce: 0.001\n",
      "Aug  4 00:00:06 p00esianlbext01 esia.gosuslugi.ru_https_access: 03/Aug/2014:23:59:57 +0400 109.165.86.241 - GET /idp/AuthnEngine HTTP/1.1 \"302\" 0.011 1407095997.009 311 \"http://www.gosuslugi.ru/pgu/personcab\" \"Mozilla/5.0 (X11; Linux x86_64) AppleWebKit/537.36 (KHTML, like Gecko) Chrome/36.0.1985.125 Safari/537.36\" - upstream_responce: 0.011\n",
      "Aug  4 00:00:06 p00esianlbext01 esia.gosuslugi.ru_https_access: 03/Aug/2014:23:59:57 +0400 82.196.148.114 - GET /idp/resources/img/theme/primefaces/bg_paginator.png HTTP/1.1 \"200\" 0.002 1407095997.009 3498 \"https://esia.gosuslugi.ru/idp/resources/css/theme.css\" \"Firefox/3.6.13, TestNVG\" - upstream_responce: 0.002\n"
     ]
    }
   ],
   "source": [
    "inputFile = 'csv_example.csv.gz'\n",
    "maxCnt = 3\n",
    "with gzip.open(inputFile, 'rb') as f:\n",
    "    cnt = 0\n",
    "    for line in f:\n",
    "        if (cnt == maxCnt):\n",
    "            break\n",
    "        line = line.decode().strip()\n",
    "        #line = re.sub(r'(\\w{3})\\s+(\\d+)\\s+(\\d{2}:\\d{2}:\\d{2})\\s+(.+?)\\s+(.+?)\\s+(\\d{2}\\/\\w{3}\\/\\d{4}:\\d{2}:\\d{2}:\\d{2}\\s+.+?)\\s+(.+?)\\s+-\\s+(.+?)\\s+(.+?)\\s+(.+?)\\s+\"(.+?)\"\\s+(.+?)\\s+(.+?)\\s+(.+?)\\s+\"(.+?)\"\\s+\"(.+?)\"\\s+-\\s+(.+?\\s+\\d+.\\d+)\\s*',\n",
    "        #              r'\\1;\\2;\\3;\\4;\\5;\\6;\\7;\\8;\\9;\\10;\\11;\\12;\\13;\\14;\\15;\\16;\\17;',  \n",
    "        #              line)\n",
    "        print(line)\n",
    "        cnt += 1"
   ]
  },
  {
   "cell_type": "markdown",
   "metadata": {},
   "source": [
    "Функция для определения количества повторений при обработке gzip файла построчно (используется в функции gzip_file_log_to_scv)"
   ]
  },
  {
   "cell_type": "code",
   "execution_count": 56,
   "metadata": {},
   "outputs": [],
   "source": [
    "def getSizeFile(nameFile):\n",
    "    size = 0\n",
    "\n",
    "    with gzip.open(nameFile) as f:\n",
    "      for line in f:\n",
    "        size += 1\n",
    "        pass\n",
    "    return size"
   ]
  },
  {
   "cell_type": "markdown",
   "metadata": {},
   "source": [
    "Функция для перевода файла с логами в (.gz) в csv с разделителем ;\n",
    "\n",
    "Параметры:\n",
    "- inputFile - имя исходного файла\n",
    "- utputFile - имя результирующего файла\n",
    "- regularForLog - регулярное выражение для 1 строки логов\n",
    "- regularForOut - регулярное выражение на которое заменяется regularForLog\n",
    "- maxCnt - количество строк из исходного файла, которые хотим перевести; по умолчанию -1 (т.е. весь файл)\n",
    "- IntProgressMax - во время запуска функции появляется Progress bar, это параметр для него (а именно максимальное количество делений на которые он увеличивается) по умолчанию 100"
   ]
  },
  {
   "cell_type": "code",
   "execution_count": 57,
   "metadata": {
    "scrolled": true
   },
   "outputs": [],
   "source": [
    "def gzip_file_log_to_scv(inputFile, outputFile, regularForLog, regularForOut, maxCnt=-1, IntProgressMax=100):\n",
    "    cntAddProgress = getSizeFile(inputFile) / IntProgressMax\n",
    "    prgBar = IntProgress(min = 0, max = IntProgressMax) # Создаем прогрессбар\n",
    "    display(prgBar) # Выводим прогрессбар на экран  \n",
    "    \n",
    "    with gzip.open(inputFile, 'rb') as f:\n",
    "        with open(outputFile, 'w')as out:\n",
    "            cnt = 0\n",
    "            for line in f:\n",
    "                if (cnt == maxCnt):\n",
    "                    break #остановка для конкретного числа строчек\n",
    "                elif (cnt % cntAddProgress == 0):\n",
    "                    prgBar.value = prgBar.value + 1 #продвижение прогрессбара\n",
    "                    \n",
    "                line = line.decode().strip()\n",
    "                line = re.sub(regularForLog, regularForOut, line)\n",
    "                out.write(line + '\\n')\n",
    "                cnt += 1"
   ]
  },
  {
   "cell_type": "markdown",
   "metadata": {},
   "source": [
    "Тестирование:\n",
    "- добавление шапки для логов\n",
    "- Перевод csv_example.csv.gz в csv"
   ]
  },
  {
   "cell_type": "code",
   "execution_count": 61,
   "metadata": {},
   "outputs": [
    {
     "data": {
      "application/vnd.jupyter.widget-view+json": {
       "model_id": "9ded847267b1475ca1f48cf7f55ec2ac",
       "version_major": 2,
       "version_minor": 0
      },
      "text/plain": [
       "IntProgress(value=0)"
      ]
     },
     "metadata": {},
     "output_type": "display_data"
    },
    {
     "name": "stdout",
     "output_type": "stream",
     "text": [
      "Wall time: 2min 45s\n"
     ]
    }
   ],
   "source": [
    "%%time\n",
    "\n",
    "inputFile = 'csv_example.csv.gz'\n",
    "outputFile = 'csv_example.csv'\n",
    "headerNames = ['month', 'day', 'time', \n",
    "               'remote addr', 'remote user', \n",
    "               'time local','IP', 'Method', \n",
    "               'Path', 'Protocol', 'Status', \n",
    "               'Body bytes number1', 'number2', 'number3', \n",
    "              'http referer', 'http user agent', 'upstream_responce']\n",
    "regularForLog = r'(\\w{3})\\s+(\\d+)\\s+(\\d{2}:\\d{2}:\\d{2})\\s+(.+?)\\s+(.+?)\\s+(\\d{2}\\/\\w{3}\\/\\d{4}:\\d{2}:\\d{2}:\\d{2}\\s+.+?)\\s+(.+?)\\s+-\\s+(.+?)\\s+(.+?)\\s+(.+?)\\s+\"(.+?)\"\\s+(.+?)\\s+(.+?)\\s+(.+?)\\s+\"(.+?)\"\\s+\"(.+?)\"\\s+-\\s+(.+?\\s+\\d+.\\d+)\\s*'                \n",
    "regularForOut = r'\"\\1\";\"\\2\";\"\\3\";\"\\4\";\"\\5\";\"\\6\";\"\\7\";\"\\8\";\"\\9\";\"\\10\";\"\\11\";\"\\12\";\"\\13\";\"\\14\";\"\\15\";\"\\16\";\"\\17\"'        \n",
    "\n",
    "gzip_file_log_to_scv(inputFile, outputFile, regularForLog, regularForOut)"
   ]
  },
  {
   "cell_type": "markdown",
   "metadata": {},
   "source": [
    "Продолжение проверки:\n",
    "- просмотр первых 5 строк с помощью бибилиотеки panda"
   ]
  },
  {
   "cell_type": "code",
   "execution_count": 62,
   "metadata": {},
   "outputs": [
    {
     "data": {
      "text/html": [
       "<div>\n",
       "<style scoped>\n",
       "    .dataframe tbody tr th:only-of-type {\n",
       "        vertical-align: middle;\n",
       "    }\n",
       "\n",
       "    .dataframe tbody tr th {\n",
       "        vertical-align: top;\n",
       "    }\n",
       "\n",
       "    .dataframe thead th {\n",
       "        text-align: right;\n",
       "    }\n",
       "</style>\n",
       "<table border=\"1\" class=\"dataframe\">\n",
       "  <thead>\n",
       "    <tr style=\"text-align: right;\">\n",
       "      <th></th>\n",
       "      <th>month</th>\n",
       "      <th>day</th>\n",
       "      <th>time</th>\n",
       "      <th>remote addr</th>\n",
       "      <th>remote user</th>\n",
       "      <th>time local</th>\n",
       "      <th>IP</th>\n",
       "      <th>Method</th>\n",
       "      <th>Path</th>\n",
       "      <th>Protocol</th>\n",
       "      <th>Status</th>\n",
       "      <th>Body bytes sent</th>\n",
       "      <th>number1</th>\n",
       "      <th>number2</th>\n",
       "      <th>http referer</th>\n",
       "      <th>http user agent</th>\n",
       "      <th>upstream_responce</th>\n",
       "    </tr>\n",
       "  </thead>\n",
       "  <tbody>\n",
       "    <tr>\n",
       "      <th>0</th>\n",
       "      <td>Aug</td>\n",
       "      <td>4</td>\n",
       "      <td>00:00:06</td>\n",
       "      <td>p00esianlbext01</td>\n",
       "      <td>esia.gosuslugi.ru_https_access:</td>\n",
       "      <td>03/Aug/2014:23:59:57 +0400</td>\n",
       "      <td>82.196.148.114</td>\n",
       "      <td>GET</td>\n",
       "      <td>/idp/resources/img/theme/sprite_arrow.png</td>\n",
       "      <td>HTTP/1.1</td>\n",
       "      <td>200</td>\n",
       "      <td>0.001</td>\n",
       "      <td>1407095997.008</td>\n",
       "      <td>1434</td>\n",
       "      <td>https://esia.gosuslugi.ru/idp/resources/css/th...</td>\n",
       "      <td>Firefox/3.6.13, TestNVG</td>\n",
       "      <td>upstream_responce: 0.001</td>\n",
       "    </tr>\n",
       "    <tr>\n",
       "      <th>1</th>\n",
       "      <td>Aug</td>\n",
       "      <td>4</td>\n",
       "      <td>00:00:06</td>\n",
       "      <td>p00esianlbext01</td>\n",
       "      <td>esia.gosuslugi.ru_https_access:</td>\n",
       "      <td>03/Aug/2014:23:59:57 +0400</td>\n",
       "      <td>109.165.86.241</td>\n",
       "      <td>GET</td>\n",
       "      <td>/idp/AuthnEngine</td>\n",
       "      <td>HTTP/1.1</td>\n",
       "      <td>302</td>\n",
       "      <td>0.011</td>\n",
       "      <td>1407095997.009</td>\n",
       "      <td>311</td>\n",
       "      <td>http://www.gosuslugi.ru/pgu/personcab</td>\n",
       "      <td>Mozilla/5.0 (X11; Linux x86_64) AppleWebKit/53...</td>\n",
       "      <td>upstream_responce: 0.011</td>\n",
       "    </tr>\n",
       "    <tr>\n",
       "      <th>2</th>\n",
       "      <td>Aug</td>\n",
       "      <td>4</td>\n",
       "      <td>00:00:06</td>\n",
       "      <td>p00esianlbext01</td>\n",
       "      <td>esia.gosuslugi.ru_https_access:</td>\n",
       "      <td>03/Aug/2014:23:59:57 +0400</td>\n",
       "      <td>82.196.148.114</td>\n",
       "      <td>GET</td>\n",
       "      <td>/idp/resources/img/theme/primefaces/bg_paginat...</td>\n",
       "      <td>HTTP/1.1</td>\n",
       "      <td>200</td>\n",
       "      <td>0.002</td>\n",
       "      <td>1407095997.009</td>\n",
       "      <td>3498</td>\n",
       "      <td>https://esia.gosuslugi.ru/idp/resources/css/th...</td>\n",
       "      <td>Firefox/3.6.13, TestNVG</td>\n",
       "      <td>upstream_responce: 0.002</td>\n",
       "    </tr>\n",
       "    <tr>\n",
       "      <th>3</th>\n",
       "      <td>Aug</td>\n",
       "      <td>4</td>\n",
       "      <td>00:00:06</td>\n",
       "      <td>p00esianlbext01</td>\n",
       "      <td>esia.gosuslugi.ru_https_access:</td>\n",
       "      <td>03/Aug/2014:23:59:57 +0400</td>\n",
       "      <td>82.196.148.114</td>\n",
       "      <td>POST</td>\n",
       "      <td>/idp/staffUnitPaging</td>\n",
       "      <td>HTTP/1.1</td>\n",
       "      <td>200</td>\n",
       "      <td>0.005</td>\n",
       "      <td>1407095997.012</td>\n",
       "      <td>119</td>\n",
       "      <td>https://esia.gosuslugi.ru/idp/authn/UsernamePa...</td>\n",
       "      <td>Firefox/3.6.13, TestNVG</td>\n",
       "      <td>upstream_responce: 0.005</td>\n",
       "    </tr>\n",
       "    <tr>\n",
       "      <th>4</th>\n",
       "      <td>Aug</td>\n",
       "      <td>4</td>\n",
       "      <td>00:00:06</td>\n",
       "      <td>p00esianlbext01</td>\n",
       "      <td>esia.gosuslugi.ru_https_access:</td>\n",
       "      <td>03/Aug/2014:23:59:57 +0400</td>\n",
       "      <td>95.55.0.200</td>\n",
       "      <td>POST</td>\n",
       "      <td>/profile/user/upStep3.xhtml</td>\n",
       "      <td>HTTP/1.1</td>\n",
       "      <td>200</td>\n",
       "      <td>0.097</td>\n",
       "      <td>1407095997.065</td>\n",
       "      <td>591</td>\n",
       "      <td>https://esia.gosuslugi.ru/profile/user/upStep3...</td>\n",
       "      <td>Mozilla/5.0 (Windows NT 6.1; WOW64) AppleWebKi...</td>\n",
       "      <td>upstream_responce: 0.097</td>\n",
       "    </tr>\n",
       "  </tbody>\n",
       "</table>\n",
       "</div>"
      ],
      "text/plain": [
       "  month day      time      remote addr                      remote user  \\\n",
       "0   Aug   4  00:00:06  p00esianlbext01  esia.gosuslugi.ru_https_access:   \n",
       "1   Aug   4  00:00:06  p00esianlbext01  esia.gosuslugi.ru_https_access:   \n",
       "2   Aug   4  00:00:06  p00esianlbext01  esia.gosuslugi.ru_https_access:   \n",
       "3   Aug   4  00:00:06  p00esianlbext01  esia.gosuslugi.ru_https_access:   \n",
       "4   Aug   4  00:00:06  p00esianlbext01  esia.gosuslugi.ru_https_access:   \n",
       "\n",
       "                   time local              IP Method  \\\n",
       "0  03/Aug/2014:23:59:57 +0400  82.196.148.114    GET   \n",
       "1  03/Aug/2014:23:59:57 +0400  109.165.86.241    GET   \n",
       "2  03/Aug/2014:23:59:57 +0400  82.196.148.114    GET   \n",
       "3  03/Aug/2014:23:59:57 +0400  82.196.148.114   POST   \n",
       "4  03/Aug/2014:23:59:57 +0400     95.55.0.200   POST   \n",
       "\n",
       "                                                Path  Protocol Status  \\\n",
       "0          /idp/resources/img/theme/sprite_arrow.png  HTTP/1.1    200   \n",
       "1                                   /idp/AuthnEngine  HTTP/1.1    302   \n",
       "2  /idp/resources/img/theme/primefaces/bg_paginat...  HTTP/1.1    200   \n",
       "3                               /idp/staffUnitPaging  HTTP/1.1    200   \n",
       "4                        /profile/user/upStep3.xhtml  HTTP/1.1    200   \n",
       "\n",
       "  Body bytes sent         number1 number2  \\\n",
       "0           0.001  1407095997.008    1434   \n",
       "1           0.011  1407095997.009     311   \n",
       "2           0.002  1407095997.009    3498   \n",
       "3           0.005  1407095997.012     119   \n",
       "4           0.097  1407095997.065     591   \n",
       "\n",
       "                                        http referer  \\\n",
       "0  https://esia.gosuslugi.ru/idp/resources/css/th...   \n",
       "1              http://www.gosuslugi.ru/pgu/personcab   \n",
       "2  https://esia.gosuslugi.ru/idp/resources/css/th...   \n",
       "3  https://esia.gosuslugi.ru/idp/authn/UsernamePa...   \n",
       "4  https://esia.gosuslugi.ru/profile/user/upStep3...   \n",
       "\n",
       "                                     http user agent         upstream_responce  \n",
       "0                            Firefox/3.6.13, TestNVG  upstream_responce: 0.001  \n",
       "1  Mozilla/5.0 (X11; Linux x86_64) AppleWebKit/53...  upstream_responce: 0.011  \n",
       "2                            Firefox/3.6.13, TestNVG  upstream_responce: 0.002  \n",
       "3                            Firefox/3.6.13, TestNVG  upstream_responce: 0.005  \n",
       "4  Mozilla/5.0 (Windows NT 6.1; WOW64) AppleWebKi...  upstream_responce: 0.097  "
      ]
     },
     "execution_count": 62,
     "metadata": {},
     "output_type": "execute_result"
    }
   ],
   "source": [
    "df = pd.read_csv(outputFile, \n",
    "                 sep=';', \n",
    "                 error_bad_lines=False, \n",
    "                 low_memory=False, \n",
    "                 names=headerNames)\n",
    "\n",
    "# Displays top 5 rows\n",
    "df.head(5)"
   ]
  }
 ],
 "metadata": {
  "kernelspec": {
   "display_name": "Python 3",
   "language": "python",
   "name": "python3"
  },
  "language_info": {
   "codemirror_mode": {
    "name": "ipython",
    "version": 3
   },
   "file_extension": ".py",
   "mimetype": "text/x-python",
   "name": "python",
   "nbconvert_exporter": "python",
   "pygments_lexer": "ipython3",
   "version": "3.8.5"
  }
 },
 "nbformat": 4,
 "nbformat_minor": 4
}
