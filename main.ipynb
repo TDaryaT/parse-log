{
 "cells": [
  {
   "cell_type": "markdown",
   "metadata": {},
   "source": [
    "Дано: лог nginx,в архиве gz.\n",
    "\n",
    "Надо: разобраться с форматом лога и преобразовать в формат csv. Т.е. чтобы параметры в строках были разделены точкой с запятой.\n",
    "\n",
    "Зачем: это дает возможность анализировать лог в программах, которые могут читать csv (excel, библиотека pandas)\n",
    "\n",
    "Подсказки: в python можно использовать\n",
    "библиотеку gzip для чтения архива,\n",
    "библиотеку re для обработки строк с помощью регулярных выражений"
   ]
  },
  {
   "cell_type": "code",
   "execution_count": 14,
   "metadata": {},
   "outputs": [],
   "source": [
    "import gzip, re\n",
    "import gzip\n",
    "\n",
    "inputFile = 'csv_example.csv.gz'\n",
    "outputFile = 'csv_example.csv'"
   ]
  },
  {
   "cell_type": "code",
   "execution_count": 37,
   "metadata": {
    "scrolled": true
   },
   "outputs": [
    {
     "name": "stdout",
     "output_type": "stream",
     "text": [
      "Aug;4;00:00:06;p00esianlbext01;esia.gosuslugi.ru_https_access:;03/Aug/2014:23:59:57;+0400;82.196.148.114;GET;/idp/resources/img/theme/sprite_arrow.png;HTTP/1.1;\n",
      "200\n",
      ";0.001;1407095997.008;1434;\n",
      "https://esia.gosuslugi.ru/idp/resources/css/theme.css\n",
      ";\n",
      "Firefox/3.6.13, TestNVG\n",
      ";upstream_responce:;0.001\n",
      "Aug;4;00:00:06;p00esianlbext01;esia.gosuslugi.ru_https_access:;03/Aug/2014:23:59:57;+0400;109.165.86.241;GET;/idp/AuthnEngine;HTTP/1.1;\n",
      "302\n",
      ";0.011;1407095997.009;311;\n",
      "http://www.gosuslugi.ru/pgu/personcab\n",
      ";\n",
      "Mozilla/5.0 (X11\\; Linux x86_64) AppleWebKit/537.36 (KHTML, like Gecko) Chrome/36.0.1985.125 Safari/537.36\n",
      ";upstream_responce:;0.011\n",
      "Aug;4;00:00:06;p00esianlbext01;esia.gosuslugi.ru_https_access:;03/Aug/2014:23:59:57;+0400;82.196.148.114;GET;/idp/resources/img/theme/primefaces/bg_paginator.png;HTTP/1.1;\n",
      "200\n",
      ";0.002;1407095997.009;3498;\n",
      "https://esia.gosuslugi.ru/idp/resources/css/theme.css\n",
      ";\n",
      "Firefox/3.6.13, TestNVG\n",
      ";upstream_responce:;0.002\n",
      "Aug;4;00:00:06;p00esianlbext01;esia.gosuslugi.ru_https_access:;03/Aug/2014:23:59:57;+0400;82.196.148.114;POST;/idp/staffUnitPaging;HTTP/1.1;\n",
      "200\n",
      ";0.005;1407095997.012;119;\n",
      "https://esia.gosuslugi.ru/idp/authn/UsernamePasswordLogin\n",
      ";\n",
      "Firefox/3.6.13, TestNVG\n",
      ";upstream_responce:;0.005\n",
      "Aug;4;00:00:06;p00esianlbext01;esia.gosuslugi.ru_https_access:;03/Aug/2014:23:59:57;+0400;95.55.0.200;POST;/profile/user/upStep3.xhtml;HTTP/1.1;\n",
      "200\n",
      ";0.097;1407095997.065;591;\n",
      "https://esia.gosuslugi.ru/profile/user/upStep3.xhtml\n",
      ";\n",
      "Mozilla/5.0 (Windows NT 6.1\\; WOW64) AppleWebKit/537.36 (KHTML, like Gecko) Chrome/36.0.1985.125 Safari/537.36\n",
      ";upstream_responce:;0.097\n",
      "Aug;4;00:00:06;p00esianlbext01;esia.gosuslugi.ru_https_access:;03/Aug/2014:23:59:57;+0400;95.153.168.223;GET;/idp/authn/CommonLogin;HTTP/1.1;\n",
      "200\n",
      ";0.086;1407095997.090;25178;\n",
      "https://www.gosuslugi.ru/pgu/personcab\n",
      ";\n",
      "Mozilla/5.0 (Windows NT 6.1\\; WOW64) AppleWebKit/537.36 (KHTML, like Gecko) Chrome/36.0.1985.125 Safari/537.36\n",
      ";upstream_responce:;0.008\n",
      "Aug;4;00:00:06;p00esianlbext01;esia.gosuslugi.ru_https_access:;03/Aug/2014:23:59:57;+0400;79.132.117.209;POST;/profile/user/upStep2.xhtml;HTTP/1.1;\n",
      "200\n",
      ";0.091;1407095997.113;4427;\n",
      "https://esia.gosuslugi.ru/profile/user/upStep2.xhtml\n",
      ";\n",
      "Mozilla/5.0 (Windows NT 6.1) AppleWebKit/537.36 (KHTML, like Gecko) Chrome/36.0.1985.125 Safari/537.36\n",
      ";upstream_responce:;0.091\n",
      "Aug;4;00:00:06;p00esianlbext01;esia.gosuslugi.ru_https_access:;03/Aug/2014:23:59:57;+0400;82.196.148.114;GET;/idp/globalRoleSelection?orgID=P;HTTP/1.1;\n",
      "302\n",
      ";0.020;1407095997.119;329;\n",
      "https://esia.gosuslugi.ru/idp/authn/UsernamePasswordLogin\n",
      ";\n",
      "Firefox/3.6.13, TestNVG\n",
      ";upstream_responce:;0.020\n",
      "Aug;4;00:00:06;p00esianlbext01;esia.gosuslugi.ru_https_access:;03/Aug/2014:23:59:57;+0400;213.168.57.141;POST;/profile/user/upStep2.xhtml;HTTP/1.1;\n",
      "200\n",
      ";0.106;1407095997.129;9793;\n",
      "https://esia.gosuslugi.ru/profile/user/upStep2.xhtml\n",
      ";\n",
      "Opera/9.80 (Windows NT 6.1\\; WOW64) Presto/2.12.388 Version/12.16\n",
      ";upstream_responce:;0.106\n",
      "Aug;4;00:00:06;p00esianlbext01;esia.gosuslugi.ru_https_access:;03/Aug/2014:23:59:57;+0400;109.165.86.241;GET;/idp/authn/CommonLogin;HTTP/1.1;\n",
      "200\n",
      ";0.058;1407095997.138;25178;\n",
      "http://www.gosuslugi.ru/pgu/personcab\n",
      ";\n",
      "Mozilla/5.0 (X11\\; Linux x86_64) AppleWebKit/537.36 (KHTML, like Gecko) Chrome/36.0.1985.125 Safari/537.36\n",
      ";upstream_responce:;0.010\n"
     ]
    }
   ],
   "source": [
    "with gzip.open(inputFile, 'rb') as f:\n",
    "    with open(outputFile, 'w')as out:\n",
    "        cnt = 0;\n",
    "        for line in f:\n",
    "            if (cnt == 10):\n",
    "                break\n",
    "            line = line.decode().strip()\n",
    "            #lineSplit = re.split(r'(\\w{3}\\s+\\d+)\\s+(\\d{2}:\\d{2}:\\d{2})\\s+(.+?)\\s+(.+?)\\s+(\\d{2}\\/\\w{3}\\/\\d{4}:\\d{2}:\\d{2}:\\d{2})\\s+(.+?)\\s+(.+?)\\s+-\\s+(.+?)\\s+(.+?)\\s+(.+?)\\s+\"(.+?)\"\\s+(.+?)\\s+(.+?)\\s+(.+?)\\s+\"(.+?)\"\\s+\"(.+?)\"\\s+-\\s+(.+?)\\s+(.+?)\\s+', line)\n",
    "            line = re.sub(r';','\\;',line)\n",
    "            line = re.split(r'\"',line)\n",
    "            for i in range(0, len(line)):\n",
    "                if (i % 2 == 0):\n",
    "                    word = re.sub(r'\\s+-*\\s*',';',line[i])\n",
    "                    out.write(word)\n",
    "                    print(word)\n",
    "                else:\n",
    "                    out.write('\"' + line[i] + '\"')\n",
    "                    print(line[i])\n",
    "            out.write('\\n')\n",
    "            cnt += 1"
   ]
  }
 ],
 "metadata": {
  "kernelspec": {
   "display_name": "Python 3",
   "language": "python",
   "name": "python3"
  },
  "language_info": {
   "codemirror_mode": {
    "name": "ipython",
    "version": 3
   },
   "file_extension": ".py",
   "mimetype": "text/x-python",
   "name": "python",
   "nbconvert_exporter": "python",
   "pygments_lexer": "ipython3",
   "version": "3.8.5"
  }
 },
 "nbformat": 4,
 "nbformat_minor": 4
}
